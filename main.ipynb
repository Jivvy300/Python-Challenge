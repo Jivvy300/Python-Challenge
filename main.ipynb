{
 "cells": [
  {
   "cell_type": "code",
   "execution_count": 1,
   "id": "18cb055e",
   "metadata": {
    "scrolled": true
   },
   "outputs": [],
   "source": [
    "import csv \n",
    "from pathlib import Path"
   ]
  },
  {
   "cell_type": "code",
   "execution_count": 2,
   "id": "d8c4119d",
   "metadata": {
    "scrolled": true
   },
   "outputs": [],
   "source": [
    "budget_data = Path(\"budget_data.csv\")"
   ]
  },
  {
   "cell_type": "code",
   "execution_count": 3,
   "id": "68d06924",
   "metadata": {},
   "outputs": [],
   "source": [
    "budget_analysis = Path(\"budget_analysis.txt\")"
   ]
  },
  {
   "cell_type": "code",
   "execution_count": 4,
   "id": "fed4c1d7",
   "metadata": {},
   "outputs": [],
   "source": [
    "total_months = 0\n",
    "month_of_change = [] \n",
    "net_changes_pnl = [] \n",
    "total_net_pnl = 0 \n",
    "greatest_increase_profits_dna = [\"\",0] \n",
    "greatest_decrease_losses_dna = [\"\",999999999] \n"
   ]
  },
  {
   "cell_type": "code",
   "execution_count": 27,
   "id": "1e8f9070",
   "metadata": {},
   "outputs": [],
   "source": [
    "with open(budget_data) as financial_data: \n",
    "    reader = csv.reader(financial_data)\n",
    "    header = next(reader)\n",
    "    \n",
    "    first_row = next(reader)\n",
    "    total_months = total_months +1\n",
    "    total_net_pnl = total_net_pnl +int(first_row[1])\n",
    "    previous_net = int(first_row[1])\n",
    "    \n",
    "    \n",
    "    for row in reader :\n",
    "        # Track the total months \n",
    "        total_months = total_months+1\n",
    "        total_net_pnl = total_net_pnl+int(row[1])\n",
    "        \n",
    "        \n",
    "        # Tracking the changes in Profit/Losses over the entire period\n",
    "        net_changes = int(row[1])-previous_net\n",
    "        previous_net = int(row[1])\n",
    "        net_changes_pnl = net_changes_pnl+[net_changes]\n",
    "        month_of_change = month_of_change + [row[0]]\n",
    "              \n",
    "        \n",
    "        # Calculate greatest increase \n",
    "        if net_changes > greatest_increase_profits_dna[1]:\n",
    "            greatest_increase_profits_dna[0]= row[0]\n",
    "            greatest_increase_profits_dna[1]= net_changes\n",
    "            \n",
    "            # Calculate greatest decrease \n",
    "        if net_changes < greatest_decrease_losses_dna[1]:\n",
    "            greatest_decrease_losses_dna[0]= row[0]\n",
    "            greatest_decrease_losses_dna[1]= net_changes\n",
    "        \n",
    "        \n",
    "        "
   ]
  },
  {
   "cell_type": "code",
   "execution_count": 25,
   "id": "8efcf8de",
   "metadata": {},
   "outputs": [],
   "source": [
    "length = len(net_changes_pnl)\n",
    "# calculate the average net changes\n",
    "average = round(sum(net_changes_pnl)/length,2)"
   ]
  },
  {
   "cell_type": "code",
   "execution_count": 26,
   "id": "5b7fba1e",
   "metadata": {},
   "outputs": [
    {
     "name": "stdout",
     "output_type": "stream",
     "text": [
      "total_months 86\n",
      "net_profit_loss 38382578\n",
      "net_changes 532869\n",
      "greatest_decrease_losses_dna Sep-2013\n",
      "greatest_decrease_loss_amount -2196167\n",
      "greastest_increase_profits_dna Feb-2012\n",
      "greatest_increase_profits_dna 1926159\n",
      "average_net_changes -2315.12\n"
     ]
    }
   ],
   "source": [
    "\n",
    "\n",
    "\n",
    "print(f\"total_months\",total_months)\n",
    "print(f\"net_profit_loss\",total_net_pnl)\n",
    "print(f\"net_changes\",net_changes)\n",
    "print(f\"greatest_decrease_losses_dna\",greatest_decrease_losses_dna[0])\n",
    "print(f\"greatest_decrease_loss_amount\",greatest_decrease_losses_dna[1])\n",
    "print(f\"greastest_increase_profits_dna\",greatest_increase_profits_dna[0])\n",
    "print(f\"greatest_increase_profits_dna\", greatest_increase_profits_dna[1])\n",
    "print(f\"average_net_changes\",average)\n",
    "\n"
   ]
  },
  {
   "cell_type": "code",
   "execution_count": null,
   "id": "fe5dbc36",
   "metadata": {},
   "outputs": [],
   "source": []
  }
 ],
 "metadata": {
  "kernelspec": {
   "display_name": "Python 3 (ipykernel)",
   "language": "python",
   "name": "python3"
  },
  "language_info": {
   "codemirror_mode": {
    "name": "ipython",
    "version": 3
   },
   "file_extension": ".py",
   "mimetype": "text/x-python",
   "name": "python",
   "nbconvert_exporter": "python",
   "pygments_lexer": "ipython3",
   "version": "3.9.12"
  }
 },
 "nbformat": 4,
 "nbformat_minor": 5
}
